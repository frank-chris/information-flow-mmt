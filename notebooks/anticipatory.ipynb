{
  "cells": [
    {
      "cell_type": "markdown",
      "metadata": {},
      "source": [
        "### This code was written for running on Colab"
      ]
    },
    {
      "cell_type": "markdown",
      "metadata": {},
      "source": [
        "## Code to generate using AMT"
      ]
    },
    {
      "cell_type": "code",
      "execution_count": null,
      "metadata": {
        "colab": {
          "base_uri": "https://localhost:8080/"
        },
        "id": "tOA5ueXai2Uc",
        "outputId": "acf8a2ce-a3cb-4fc0-8494-f4b2803737f0"
      },
      "outputs": [],
      "source": [
        "!apt install fluidsynth"
      ]
    },
    {
      "cell_type": "code",
      "execution_count": null,
      "metadata": {
        "colab": {
          "base_uri": "https://localhost:8080/"
        },
        "id": "LIdoAPUui8QT",
        "outputId": "3b89d960-09bf-4968-9796-dfcce1bba81d"
      },
      "outputs": [],
      "source": [
        "!git clone https://github.com/jthickstun/anticipation.git\n",
        "!pip install ./anticipation\n",
        "!pip install -r anticipation/requirements.txt"
      ]
    },
    {
      "cell_type": "code",
      "execution_count": null,
      "metadata": {
        "id": "37QhH_6ojAER"
      },
      "outputs": [],
      "source": [
        "import sys,time\n",
        "\n",
        "import midi2audio\n",
        "import transformers\n",
        "from transformers import AutoModelForCausalLM\n",
        "\n",
        "from IPython.display import Audio\n",
        "\n",
        "from anticipation import ops\n",
        "from anticipation.sample import generate\n",
        "from anticipation.tokenize import extract_instruments\n",
        "from anticipation.convert import events_to_midi,midi_to_events\n",
        "from anticipation.visuals import visualize\n",
        "from anticipation.config import *\n",
        "from anticipation.vocab import *"
      ]
    },
    {
      "cell_type": "code",
      "execution_count": null,
      "metadata": {
        "colab": {
          "base_uri": "https://localhost:8080/",
          "height": 265,
          "referenced_widgets": [
            "276c6c8004b3456d8a144962657dbd28",
            "bf74aa56b31843f8b134db33fd0590ad",
            "0491cd63e6014641a181ee86ef1d9fc8",
            "cc855ddf2b5e448a81bd20bceabcea30",
            "41c754ee21ed496d94b267e323b28601",
            "40a4d7e77b5b4bcda4baad6d60ff7e56",
            "eb89b1243c444076bbda2a1332e0c4ea",
            "9cbff5fa3e004f5e98da643fa314a0bd",
            "8b675708e57c4e7c884bcd56881ade7a",
            "e1d81023ac72402788060aee99c880b4",
            "c50b64bbebd9434ea028bd9313ac3cd0",
            "d54ae1a5ac1f41629434c6ffd0c80d5e",
            "ded6c304f60d4316867ecf3fbc299302",
            "75a302eaa11c49cbab373ef57a8f9280",
            "dfdf7e993235458cbc154904968cfcf9",
            "28ba534b5e0a4b5a8ff8cff067cea3f5",
            "6b0292656a9a4f4690a8f6e74ebccf12",
            "0a761b9c576e407d9140d15dd8548f62",
            "5ca5c5e13862443d874d1200040d6da5",
            "c47ee4f56b24499a9aa194d2a338d028",
            "dc0c32bf8d8c479096cac7fd27fe1891",
            "e38b5e57b28c417ea76ba445241687f0"
          ]
        },
        "id": "TuTCZx1kjFSv",
        "outputId": "f2036619-c405-438d-e288-eaa83352dc1b"
      },
      "outputs": [
        {
          "name": "stderr",
          "output_type": "stream",
          "text": [
            "/usr/local/lib/python3.10/dist-packages/huggingface_hub/utils/_token.py:88: UserWarning: \n",
            "The secret `HF_TOKEN` does not exist in your Colab secrets.\n",
            "To authenticate with the Hugging Face Hub, create a token in your settings tab (https://huggingface.co/settings/tokens), set it as secret in your Google Colab and restart your session.\n",
            "You will be able to reuse this secret in all of your notebooks.\n",
            "Please note that authentication is recommended but still optional to access public models or datasets.\n",
            "  warnings.warn(\n"
          ]
        },
        {
          "data": {
            "application/vnd.jupyter.widget-view+json": {
              "model_id": "276c6c8004b3456d8a144962657dbd28",
              "version_major": 2,
              "version_minor": 0
            },
            "text/plain": [
              "config.json:   0%|          | 0.00/1.96k [00:00<?, ?B/s]"
            ]
          },
          "metadata": {},
          "output_type": "display_data"
        },
        {
          "data": {
            "application/vnd.jupyter.widget-view+json": {
              "model_id": "d54ae1a5ac1f41629434c6ffd0c80d5e",
              "version_major": 2,
              "version_minor": 0
            },
            "text/plain": [
              "pytorch_model.bin:   0%|          | 0.00/1.44G [00:00<?, ?B/s]"
            ]
          },
          "metadata": {},
          "output_type": "display_data"
        },
        {
          "name": "stderr",
          "output_type": "stream",
          "text": [
            "Some weights of the model checkpoint at stanford-crfm/music-medium-800k were not used when initializing GPT2LMHeadModel: ['token_out_embeddings']\n",
            "- This IS expected if you are initializing GPT2LMHeadModel from the checkpoint of a model trained on another task or with another architecture (e.g. initializing a BertForSequenceClassification model from a BertForPreTraining model).\n",
            "- This IS NOT expected if you are initializing GPT2LMHeadModel from the checkpoint of a model that you expect to be exactly identical (initializing a BertForSequenceClassification model from a BertForSequenceClassification model).\n"
          ]
        }
      ],
      "source": [
        "SMALL_MODEL = 'stanford-crfm/music-small-800k'     # faster inference, worse sample quality\n",
        "MEDIUM_MODEL = 'stanford-crfm/music-medium-800k'   # slower inference, better sample quality\n",
        "\n",
        "# load an anticipatory music transformer\n",
        "model = AutoModelForCausalLM.from_pretrained(MEDIUM_MODEL).cuda()\n",
        "\n",
        "# a MIDI synthesizer\n",
        "fs = midi2audio.FluidSynth('/usr/share/sounds/sf2/FluidR3_GM.sf2')\n",
        "\n",
        "# the MIDI synthesis script\n",
        "def synthesize(fs, tokens):\n",
        "    mid = events_to_midi(tokens)\n",
        "    mid.save('tmp.mid')\n",
        "    fs.midi_to_audio('tmp.mid', 'tmp.wav')\n",
        "    return 'tmp.wav'"
      ]
    },
    {
      "cell_type": "code",
      "execution_count": null,
      "metadata": {
        "colab": {
          "base_uri": "https://localhost:8080/"
        },
        "id": "wGCgtxYCzcMv",
        "outputId": "f8b2db5b-ea1c-49cd-85a7-86d27fe5cb6d"
      },
      "outputs": [
        {
          "name": "stderr",
          "output_type": "stream",
          "text": [
            "100%|██████████| 4000/4000 [02:33<00:00, 26.05it/s]\n",
            "4010it [06:54,  9.68it/s]\n",
            "100%|██████████| 4000/4000 [01:55<00:00, 34.75it/s]\n",
            "100%|█████████▉| 3984/4000 [00:31<00:00, 124.88it/s]\n",
            "4053it [06:04, 11.12it/s]\n",
            "100%|█████████▉| 3987/4000 [02:35<00:00, 25.58it/s]\n",
            "100%|██████████| 4000/4000 [04:40<00:00, 14.24it/s]\n",
            "100%|██████████| 4000/4000 [02:51<00:00, 23.36it/s]\n",
            "100%|██████████| 4000/4000 [01:56<00:00, 34.33it/s]\n"
          ]
        }
      ],
      "source": [
        "import os\n",
        "\n",
        "starts = 'starts_20_new'\n",
        "samples = 'samples'\n",
        "for fname in os.listdir(starts):\n",
        "  if os.path.isfile(os.path.join(starts, fname)):\n",
        "    events = midi_to_events(os.path.join(starts, fname))\n",
        "    proposal = generate(model, start_time=20, end_time=60, inputs=events, top_p=0.98)\n",
        "    mid = events_to_midi(proposal)\n",
        "    mid.save(os.path.join(samples, fname))"
      ]
    },
    {
      "cell_type": "code",
      "execution_count": null,
      "metadata": {
        "colab": {
          "base_uri": "https://localhost:8080/"
        },
        "id": "VEqHr3abPbIm",
        "outputId": "0e510b2f-d6c4-440c-a756-10d99db59fb4"
      },
      "outputs": [
        {
          "name": "stdout",
          "output_type": "stream",
          "text": [
            "  adding: samples/ (stored 0%)\n",
            "  adding: samples/010.mid (deflated 82%)\n",
            "  adding: samples/014.mid (deflated 65%)\n",
            "  adding: samples/015.mid (deflated 84%)\n",
            "  adding: samples/009.mid (deflated 63%)\n",
            "  adding: samples/018.mid (deflated 65%)\n",
            "  adding: samples/020.mid (deflated 68%)\n",
            "  adding: samples/012.mid (deflated 88%)\n",
            "  adding: samples/013.mid (deflated 92%)\n",
            "  adding: samples/011.mid (deflated 75%)\n"
          ]
        }
      ],
      "source": [
        "!zip -r samples.zip samples/"
      ]
    },
    {
      "cell_type": "markdown",
      "metadata": {},
      "source": [
        "## Code to extract first 20 seconds of a MIDI file"
      ]
    },
    {
      "cell_type": "code",
      "execution_count": null,
      "metadata": {
        "id": "NfqkLvInjJI3"
      },
      "outputs": [],
      "source": [
        "# import os\n",
        "# import mido\n",
        "# from mido import tick2second\n",
        "\n",
        "# def cut_midi(read_path, save_path, t=20):\n",
        "#   midifile = mido.MidiFile(read_path)\n",
        "\n",
        "#   for track in midifile.tracks:\n",
        "#     tick = 0\n",
        "#     total_time = 0\n",
        "#     keep = []\n",
        "#     for msg in track:\n",
        "#       if msg.type == 'set_tempo':\n",
        "#         tempo = msg.tempo\n",
        "#       total_time  += tick2second(msg.time, midifile.ticks_per_beat, tempo)\n",
        "#       if total_time > t:\n",
        "#         break\n",
        "#       keep.append(msg)\n",
        "#       tick += msg.time\n",
        "#     track.clear()\n",
        "#     track.extend(keep)\n",
        "\n",
        "#   midifile.save(save_path)\n",
        "\n",
        "# for file in os.listdir('selected/'):\n",
        "#   if os.path.isfile(os.path.join('selected/', file)):\n",
        "#     cut_midi(os.path.join('selected/', file), os.path.join('starts_20/', file), t=20)"
      ]
    }
  ],
  "metadata": {
    "accelerator": "GPU",
    "colab": {
      "gpuType": "T4",
      "provenance": []
    },
    "kernelspec": {
      "display_name": "Python 3",
      "name": "python3"
    },
    "language_info": {
      "name": "python"
    },
    "widgets": {
      "application/vnd.jupyter.widget-state+json": {
        "0491cd63e6014641a181ee86ef1d9fc8": {
          "model_module": "@jupyter-widgets/controls",
          "model_module_version": "1.5.0",
          "model_name": "FloatProgressModel",
          "state": {
            "_dom_classes": [],
            "_model_module": "@jupyter-widgets/controls",
            "_model_module_version": "1.5.0",
            "_model_name": "FloatProgressModel",
            "_view_count": null,
            "_view_module": "@jupyter-widgets/controls",
            "_view_module_version": "1.5.0",
            "_view_name": "ProgressView",
            "bar_style": "success",
            "description": "",
            "description_tooltip": null,
            "layout": "IPY_MODEL_9cbff5fa3e004f5e98da643fa314a0bd",
            "max": 1963,
            "min": 0,
            "orientation": "horizontal",
            "style": "IPY_MODEL_8b675708e57c4e7c884bcd56881ade7a",
            "value": 1963
          }
        },
        "0a761b9c576e407d9140d15dd8548f62": {
          "model_module": "@jupyter-widgets/controls",
          "model_module_version": "1.5.0",
          "model_name": "DescriptionStyleModel",
          "state": {
            "_model_module": "@jupyter-widgets/controls",
            "_model_module_version": "1.5.0",
            "_model_name": "DescriptionStyleModel",
            "_view_count": null,
            "_view_module": "@jupyter-widgets/base",
            "_view_module_version": "1.2.0",
            "_view_name": "StyleView",
            "description_width": ""
          }
        },
        "276c6c8004b3456d8a144962657dbd28": {
          "model_module": "@jupyter-widgets/controls",
          "model_module_version": "1.5.0",
          "model_name": "HBoxModel",
          "state": {
            "_dom_classes": [],
            "_model_module": "@jupyter-widgets/controls",
            "_model_module_version": "1.5.0",
            "_model_name": "HBoxModel",
            "_view_count": null,
            "_view_module": "@jupyter-widgets/controls",
            "_view_module_version": "1.5.0",
            "_view_name": "HBoxView",
            "box_style": "",
            "children": [
              "IPY_MODEL_bf74aa56b31843f8b134db33fd0590ad",
              "IPY_MODEL_0491cd63e6014641a181ee86ef1d9fc8",
              "IPY_MODEL_cc855ddf2b5e448a81bd20bceabcea30"
            ],
            "layout": "IPY_MODEL_41c754ee21ed496d94b267e323b28601"
          }
        },
        "28ba534b5e0a4b5a8ff8cff067cea3f5": {
          "model_module": "@jupyter-widgets/base",
          "model_module_version": "1.2.0",
          "model_name": "LayoutModel",
          "state": {
            "_model_module": "@jupyter-widgets/base",
            "_model_module_version": "1.2.0",
            "_model_name": "LayoutModel",
            "_view_count": null,
            "_view_module": "@jupyter-widgets/base",
            "_view_module_version": "1.2.0",
            "_view_name": "LayoutView",
            "align_content": null,
            "align_items": null,
            "align_self": null,
            "border": null,
            "bottom": null,
            "display": null,
            "flex": null,
            "flex_flow": null,
            "grid_area": null,
            "grid_auto_columns": null,
            "grid_auto_flow": null,
            "grid_auto_rows": null,
            "grid_column": null,
            "grid_gap": null,
            "grid_row": null,
            "grid_template_areas": null,
            "grid_template_columns": null,
            "grid_template_rows": null,
            "height": null,
            "justify_content": null,
            "justify_items": null,
            "left": null,
            "margin": null,
            "max_height": null,
            "max_width": null,
            "min_height": null,
            "min_width": null,
            "object_fit": null,
            "object_position": null,
            "order": null,
            "overflow": null,
            "overflow_x": null,
            "overflow_y": null,
            "padding": null,
            "right": null,
            "top": null,
            "visibility": null,
            "width": null
          }
        },
        "40a4d7e77b5b4bcda4baad6d60ff7e56": {
          "model_module": "@jupyter-widgets/base",
          "model_module_version": "1.2.0",
          "model_name": "LayoutModel",
          "state": {
            "_model_module": "@jupyter-widgets/base",
            "_model_module_version": "1.2.0",
            "_model_name": "LayoutModel",
            "_view_count": null,
            "_view_module": "@jupyter-widgets/base",
            "_view_module_version": "1.2.0",
            "_view_name": "LayoutView",
            "align_content": null,
            "align_items": null,
            "align_self": null,
            "border": null,
            "bottom": null,
            "display": null,
            "flex": null,
            "flex_flow": null,
            "grid_area": null,
            "grid_auto_columns": null,
            "grid_auto_flow": null,
            "grid_auto_rows": null,
            "grid_column": null,
            "grid_gap": null,
            "grid_row": null,
            "grid_template_areas": null,
            "grid_template_columns": null,
            "grid_template_rows": null,
            "height": null,
            "justify_content": null,
            "justify_items": null,
            "left": null,
            "margin": null,
            "max_height": null,
            "max_width": null,
            "min_height": null,
            "min_width": null,
            "object_fit": null,
            "object_position": null,
            "order": null,
            "overflow": null,
            "overflow_x": null,
            "overflow_y": null,
            "padding": null,
            "right": null,
            "top": null,
            "visibility": null,
            "width": null
          }
        },
        "41c754ee21ed496d94b267e323b28601": {
          "model_module": "@jupyter-widgets/base",
          "model_module_version": "1.2.0",
          "model_name": "LayoutModel",
          "state": {
            "_model_module": "@jupyter-widgets/base",
            "_model_module_version": "1.2.0",
            "_model_name": "LayoutModel",
            "_view_count": null,
            "_view_module": "@jupyter-widgets/base",
            "_view_module_version": "1.2.0",
            "_view_name": "LayoutView",
            "align_content": null,
            "align_items": null,
            "align_self": null,
            "border": null,
            "bottom": null,
            "display": null,
            "flex": null,
            "flex_flow": null,
            "grid_area": null,
            "grid_auto_columns": null,
            "grid_auto_flow": null,
            "grid_auto_rows": null,
            "grid_column": null,
            "grid_gap": null,
            "grid_row": null,
            "grid_template_areas": null,
            "grid_template_columns": null,
            "grid_template_rows": null,
            "height": null,
            "justify_content": null,
            "justify_items": null,
            "left": null,
            "margin": null,
            "max_height": null,
            "max_width": null,
            "min_height": null,
            "min_width": null,
            "object_fit": null,
            "object_position": null,
            "order": null,
            "overflow": null,
            "overflow_x": null,
            "overflow_y": null,
            "padding": null,
            "right": null,
            "top": null,
            "visibility": null,
            "width": null
          }
        },
        "5ca5c5e13862443d874d1200040d6da5": {
          "model_module": "@jupyter-widgets/base",
          "model_module_version": "1.2.0",
          "model_name": "LayoutModel",
          "state": {
            "_model_module": "@jupyter-widgets/base",
            "_model_module_version": "1.2.0",
            "_model_name": "LayoutModel",
            "_view_count": null,
            "_view_module": "@jupyter-widgets/base",
            "_view_module_version": "1.2.0",
            "_view_name": "LayoutView",
            "align_content": null,
            "align_items": null,
            "align_self": null,
            "border": null,
            "bottom": null,
            "display": null,
            "flex": null,
            "flex_flow": null,
            "grid_area": null,
            "grid_auto_columns": null,
            "grid_auto_flow": null,
            "grid_auto_rows": null,
            "grid_column": null,
            "grid_gap": null,
            "grid_row": null,
            "grid_template_areas": null,
            "grid_template_columns": null,
            "grid_template_rows": null,
            "height": null,
            "justify_content": null,
            "justify_items": null,
            "left": null,
            "margin": null,
            "max_height": null,
            "max_width": null,
            "min_height": null,
            "min_width": null,
            "object_fit": null,
            "object_position": null,
            "order": null,
            "overflow": null,
            "overflow_x": null,
            "overflow_y": null,
            "padding": null,
            "right": null,
            "top": null,
            "visibility": null,
            "width": null
          }
        },
        "6b0292656a9a4f4690a8f6e74ebccf12": {
          "model_module": "@jupyter-widgets/base",
          "model_module_version": "1.2.0",
          "model_name": "LayoutModel",
          "state": {
            "_model_module": "@jupyter-widgets/base",
            "_model_module_version": "1.2.0",
            "_model_name": "LayoutModel",
            "_view_count": null,
            "_view_module": "@jupyter-widgets/base",
            "_view_module_version": "1.2.0",
            "_view_name": "LayoutView",
            "align_content": null,
            "align_items": null,
            "align_self": null,
            "border": null,
            "bottom": null,
            "display": null,
            "flex": null,
            "flex_flow": null,
            "grid_area": null,
            "grid_auto_columns": null,
            "grid_auto_flow": null,
            "grid_auto_rows": null,
            "grid_column": null,
            "grid_gap": null,
            "grid_row": null,
            "grid_template_areas": null,
            "grid_template_columns": null,
            "grid_template_rows": null,
            "height": null,
            "justify_content": null,
            "justify_items": null,
            "left": null,
            "margin": null,
            "max_height": null,
            "max_width": null,
            "min_height": null,
            "min_width": null,
            "object_fit": null,
            "object_position": null,
            "order": null,
            "overflow": null,
            "overflow_x": null,
            "overflow_y": null,
            "padding": null,
            "right": null,
            "top": null,
            "visibility": null,
            "width": null
          }
        },
        "75a302eaa11c49cbab373ef57a8f9280": {
          "model_module": "@jupyter-widgets/controls",
          "model_module_version": "1.5.0",
          "model_name": "FloatProgressModel",
          "state": {
            "_dom_classes": [],
            "_model_module": "@jupyter-widgets/controls",
            "_model_module_version": "1.5.0",
            "_model_name": "FloatProgressModel",
            "_view_count": null,
            "_view_module": "@jupyter-widgets/controls",
            "_view_module_version": "1.5.0",
            "_view_name": "ProgressView",
            "bar_style": "success",
            "description": "",
            "description_tooltip": null,
            "layout": "IPY_MODEL_5ca5c5e13862443d874d1200040d6da5",
            "max": 1438866529,
            "min": 0,
            "orientation": "horizontal",
            "style": "IPY_MODEL_c47ee4f56b24499a9aa194d2a338d028",
            "value": 1438866529
          }
        },
        "8b675708e57c4e7c884bcd56881ade7a": {
          "model_module": "@jupyter-widgets/controls",
          "model_module_version": "1.5.0",
          "model_name": "ProgressStyleModel",
          "state": {
            "_model_module": "@jupyter-widgets/controls",
            "_model_module_version": "1.5.0",
            "_model_name": "ProgressStyleModel",
            "_view_count": null,
            "_view_module": "@jupyter-widgets/base",
            "_view_module_version": "1.2.0",
            "_view_name": "StyleView",
            "bar_color": null,
            "description_width": ""
          }
        },
        "9cbff5fa3e004f5e98da643fa314a0bd": {
          "model_module": "@jupyter-widgets/base",
          "model_module_version": "1.2.0",
          "model_name": "LayoutModel",
          "state": {
            "_model_module": "@jupyter-widgets/base",
            "_model_module_version": "1.2.0",
            "_model_name": "LayoutModel",
            "_view_count": null,
            "_view_module": "@jupyter-widgets/base",
            "_view_module_version": "1.2.0",
            "_view_name": "LayoutView",
            "align_content": null,
            "align_items": null,
            "align_self": null,
            "border": null,
            "bottom": null,
            "display": null,
            "flex": null,
            "flex_flow": null,
            "grid_area": null,
            "grid_auto_columns": null,
            "grid_auto_flow": null,
            "grid_auto_rows": null,
            "grid_column": null,
            "grid_gap": null,
            "grid_row": null,
            "grid_template_areas": null,
            "grid_template_columns": null,
            "grid_template_rows": null,
            "height": null,
            "justify_content": null,
            "justify_items": null,
            "left": null,
            "margin": null,
            "max_height": null,
            "max_width": null,
            "min_height": null,
            "min_width": null,
            "object_fit": null,
            "object_position": null,
            "order": null,
            "overflow": null,
            "overflow_x": null,
            "overflow_y": null,
            "padding": null,
            "right": null,
            "top": null,
            "visibility": null,
            "width": null
          }
        },
        "bf74aa56b31843f8b134db33fd0590ad": {
          "model_module": "@jupyter-widgets/controls",
          "model_module_version": "1.5.0",
          "model_name": "HTMLModel",
          "state": {
            "_dom_classes": [],
            "_model_module": "@jupyter-widgets/controls",
            "_model_module_version": "1.5.0",
            "_model_name": "HTMLModel",
            "_view_count": null,
            "_view_module": "@jupyter-widgets/controls",
            "_view_module_version": "1.5.0",
            "_view_name": "HTMLView",
            "description": "",
            "description_tooltip": null,
            "layout": "IPY_MODEL_40a4d7e77b5b4bcda4baad6d60ff7e56",
            "placeholder": "​",
            "style": "IPY_MODEL_eb89b1243c444076bbda2a1332e0c4ea",
            "value": "config.json: 100%"
          }
        },
        "c47ee4f56b24499a9aa194d2a338d028": {
          "model_module": "@jupyter-widgets/controls",
          "model_module_version": "1.5.0",
          "model_name": "ProgressStyleModel",
          "state": {
            "_model_module": "@jupyter-widgets/controls",
            "_model_module_version": "1.5.0",
            "_model_name": "ProgressStyleModel",
            "_view_count": null,
            "_view_module": "@jupyter-widgets/base",
            "_view_module_version": "1.2.0",
            "_view_name": "StyleView",
            "bar_color": null,
            "description_width": ""
          }
        },
        "c50b64bbebd9434ea028bd9313ac3cd0": {
          "model_module": "@jupyter-widgets/controls",
          "model_module_version": "1.5.0",
          "model_name": "DescriptionStyleModel",
          "state": {
            "_model_module": "@jupyter-widgets/controls",
            "_model_module_version": "1.5.0",
            "_model_name": "DescriptionStyleModel",
            "_view_count": null,
            "_view_module": "@jupyter-widgets/base",
            "_view_module_version": "1.2.0",
            "_view_name": "StyleView",
            "description_width": ""
          }
        },
        "cc855ddf2b5e448a81bd20bceabcea30": {
          "model_module": "@jupyter-widgets/controls",
          "model_module_version": "1.5.0",
          "model_name": "HTMLModel",
          "state": {
            "_dom_classes": [],
            "_model_module": "@jupyter-widgets/controls",
            "_model_module_version": "1.5.0",
            "_model_name": "HTMLModel",
            "_view_count": null,
            "_view_module": "@jupyter-widgets/controls",
            "_view_module_version": "1.5.0",
            "_view_name": "HTMLView",
            "description": "",
            "description_tooltip": null,
            "layout": "IPY_MODEL_e1d81023ac72402788060aee99c880b4",
            "placeholder": "​",
            "style": "IPY_MODEL_c50b64bbebd9434ea028bd9313ac3cd0",
            "value": " 1.96k/1.96k [00:00&lt;00:00, 125kB/s]"
          }
        },
        "d54ae1a5ac1f41629434c6ffd0c80d5e": {
          "model_module": "@jupyter-widgets/controls",
          "model_module_version": "1.5.0",
          "model_name": "HBoxModel",
          "state": {
            "_dom_classes": [],
            "_model_module": "@jupyter-widgets/controls",
            "_model_module_version": "1.5.0",
            "_model_name": "HBoxModel",
            "_view_count": null,
            "_view_module": "@jupyter-widgets/controls",
            "_view_module_version": "1.5.0",
            "_view_name": "HBoxView",
            "box_style": "",
            "children": [
              "IPY_MODEL_ded6c304f60d4316867ecf3fbc299302",
              "IPY_MODEL_75a302eaa11c49cbab373ef57a8f9280",
              "IPY_MODEL_dfdf7e993235458cbc154904968cfcf9"
            ],
            "layout": "IPY_MODEL_28ba534b5e0a4b5a8ff8cff067cea3f5"
          }
        },
        "dc0c32bf8d8c479096cac7fd27fe1891": {
          "model_module": "@jupyter-widgets/base",
          "model_module_version": "1.2.0",
          "model_name": "LayoutModel",
          "state": {
            "_model_module": "@jupyter-widgets/base",
            "_model_module_version": "1.2.0",
            "_model_name": "LayoutModel",
            "_view_count": null,
            "_view_module": "@jupyter-widgets/base",
            "_view_module_version": "1.2.0",
            "_view_name": "LayoutView",
            "align_content": null,
            "align_items": null,
            "align_self": null,
            "border": null,
            "bottom": null,
            "display": null,
            "flex": null,
            "flex_flow": null,
            "grid_area": null,
            "grid_auto_columns": null,
            "grid_auto_flow": null,
            "grid_auto_rows": null,
            "grid_column": null,
            "grid_gap": null,
            "grid_row": null,
            "grid_template_areas": null,
            "grid_template_columns": null,
            "grid_template_rows": null,
            "height": null,
            "justify_content": null,
            "justify_items": null,
            "left": null,
            "margin": null,
            "max_height": null,
            "max_width": null,
            "min_height": null,
            "min_width": null,
            "object_fit": null,
            "object_position": null,
            "order": null,
            "overflow": null,
            "overflow_x": null,
            "overflow_y": null,
            "padding": null,
            "right": null,
            "top": null,
            "visibility": null,
            "width": null
          }
        },
        "ded6c304f60d4316867ecf3fbc299302": {
          "model_module": "@jupyter-widgets/controls",
          "model_module_version": "1.5.0",
          "model_name": "HTMLModel",
          "state": {
            "_dom_classes": [],
            "_model_module": "@jupyter-widgets/controls",
            "_model_module_version": "1.5.0",
            "_model_name": "HTMLModel",
            "_view_count": null,
            "_view_module": "@jupyter-widgets/controls",
            "_view_module_version": "1.5.0",
            "_view_name": "HTMLView",
            "description": "",
            "description_tooltip": null,
            "layout": "IPY_MODEL_6b0292656a9a4f4690a8f6e74ebccf12",
            "placeholder": "​",
            "style": "IPY_MODEL_0a761b9c576e407d9140d15dd8548f62",
            "value": "pytorch_model.bin: 100%"
          }
        },
        "dfdf7e993235458cbc154904968cfcf9": {
          "model_module": "@jupyter-widgets/controls",
          "model_module_version": "1.5.0",
          "model_name": "HTMLModel",
          "state": {
            "_dom_classes": [],
            "_model_module": "@jupyter-widgets/controls",
            "_model_module_version": "1.5.0",
            "_model_name": "HTMLModel",
            "_view_count": null,
            "_view_module": "@jupyter-widgets/controls",
            "_view_module_version": "1.5.0",
            "_view_name": "HTMLView",
            "description": "",
            "description_tooltip": null,
            "layout": "IPY_MODEL_dc0c32bf8d8c479096cac7fd27fe1891",
            "placeholder": "​",
            "style": "IPY_MODEL_e38b5e57b28c417ea76ba445241687f0",
            "value": " 1.44G/1.44G [00:09&lt;00:00, 144MB/s]"
          }
        },
        "e1d81023ac72402788060aee99c880b4": {
          "model_module": "@jupyter-widgets/base",
          "model_module_version": "1.2.0",
          "model_name": "LayoutModel",
          "state": {
            "_model_module": "@jupyter-widgets/base",
            "_model_module_version": "1.2.0",
            "_model_name": "LayoutModel",
            "_view_count": null,
            "_view_module": "@jupyter-widgets/base",
            "_view_module_version": "1.2.0",
            "_view_name": "LayoutView",
            "align_content": null,
            "align_items": null,
            "align_self": null,
            "border": null,
            "bottom": null,
            "display": null,
            "flex": null,
            "flex_flow": null,
            "grid_area": null,
            "grid_auto_columns": null,
            "grid_auto_flow": null,
            "grid_auto_rows": null,
            "grid_column": null,
            "grid_gap": null,
            "grid_row": null,
            "grid_template_areas": null,
            "grid_template_columns": null,
            "grid_template_rows": null,
            "height": null,
            "justify_content": null,
            "justify_items": null,
            "left": null,
            "margin": null,
            "max_height": null,
            "max_width": null,
            "min_height": null,
            "min_width": null,
            "object_fit": null,
            "object_position": null,
            "order": null,
            "overflow": null,
            "overflow_x": null,
            "overflow_y": null,
            "padding": null,
            "right": null,
            "top": null,
            "visibility": null,
            "width": null
          }
        },
        "e38b5e57b28c417ea76ba445241687f0": {
          "model_module": "@jupyter-widgets/controls",
          "model_module_version": "1.5.0",
          "model_name": "DescriptionStyleModel",
          "state": {
            "_model_module": "@jupyter-widgets/controls",
            "_model_module_version": "1.5.0",
            "_model_name": "DescriptionStyleModel",
            "_view_count": null,
            "_view_module": "@jupyter-widgets/base",
            "_view_module_version": "1.2.0",
            "_view_name": "StyleView",
            "description_width": ""
          }
        },
        "eb89b1243c444076bbda2a1332e0c4ea": {
          "model_module": "@jupyter-widgets/controls",
          "model_module_version": "1.5.0",
          "model_name": "DescriptionStyleModel",
          "state": {
            "_model_module": "@jupyter-widgets/controls",
            "_model_module_version": "1.5.0",
            "_model_name": "DescriptionStyleModel",
            "_view_count": null,
            "_view_module": "@jupyter-widgets/base",
            "_view_module_version": "1.2.0",
            "_view_name": "StyleView",
            "description_width": ""
          }
        }
      }
    }
  },
  "nbformat": 4,
  "nbformat_minor": 0
}
